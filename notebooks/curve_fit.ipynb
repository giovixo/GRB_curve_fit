{
 "cells": [
  {
   "cell_type": "markdown",
   "metadata": {},
   "source": [
    "# GRB light curve fit"
   ]
  },
  {
   "cell_type": "code",
   "execution_count": 1,
   "metadata": {},
   "outputs": [],
   "source": [
    "import gfit"
   ]
  },
  {
   "cell_type": "code",
   "execution_count": 2,
   "metadata": {},
   "outputs": [
    {
     "name": "stdout",
     "output_type": "stream",
     "text": [
      "GFIT: a module to fit GRB light curves\n"
     ]
    }
   ],
   "source": [
    "gfit.info()"
   ]
  },
  {
   "cell_type": "code",
   "execution_count": 3,
   "metadata": {},
   "outputs": [
    {
     "data": {
      "image/png": "[encoded data removed]",
      "text/plain": [
       "<matplotlib.figure.Figure at 0x1a0e191bd0>"
      ]
     },
     "metadata": {},
     "output_type": "display_data"
    }
   ],
   "source": [
    "# Plot initial old models\n",
    "gfit.plot_model_old()"
   ]
  },
  {
   "cell_type": "code",
   "execution_count": 4,
   "metadata": {},
   "outputs": [
    {
     "data": {
      "image/png": "[encoded data removed]",
      "text/plain": [
       "<matplotlib.figure.Figure at 0x1a17097950>"
      ]
     },
     "metadata": {},
     "output_type": "display_data"
    }
   ],
   "source": [
    "# Plot initial ax models\n",
    "gfit.plot_model_ax()"
   ]
  },
  {
   "cell_type": "code",
   "execution_count": 5,
   "metadata": {},
   "outputs": [
    {
     "name": "stdout",
     "output_type": "stream",
     "text": [
      "Help on function read in module gfit:\n",
      "\n",
      "read(fi='050603', Tt=0, thetajetstr='90')\n",
      "    Reads data from X-ray afterglow luminosity light curves\n",
      "    \n",
      "    Return (data_array, startTxrtFromFile, fb)\n",
      "    \n",
      "    Usage:\n",
      "    (data, time, fb) = read(fi='050603', Tt=0, thetajetstr=\"90\")\n",
      "\n"
     ]
    }
   ],
   "source": [
    "help(gfit.read)"
   ]
  },
  {
   "cell_type": "code",
   "execution_count": 6,
   "metadata": {},
   "outputs": [
    {
     "name": "stdout",
     "output_type": "stream",
     "text": [
      "Index for  050603  :  (array([6]), array([0]))\n",
      "!! No jet beaming correction applied to model with fb=,1.0 !!\n"
     ]
    }
   ],
   "source": [
    "(data, time, fb) = gfit.read()"
   ]
  },
  {
   "cell_type": "code",
   "execution_count": 7,
   "metadata": {},
   "outputs": [
    {
     "name": "stdout",
     "output_type": "stream",
     "text": [
      "Time: 81.7881708565\n",
      "fb: 1.0\n"
     ]
    }
   ],
   "source": [
    "print \"Time: \" + str(time)\n",
    "print \"fb: \" + str(fb)"
   ]
  },
  {
   "cell_type": "code",
   "execution_count": 8,
   "metadata": {},
   "outputs": [
    {
     "data": {
      "text/plain": [
       "array([[-2.25984433e+00,  4.13614046e-01,  5.14958477e+01,\n",
       "         8.84181864e-02],\n",
       "       [-1.79673368e+00,  1.42391683e-01,  5.15509047e+01,\n",
       "         8.30641016e-02],\n",
       "       [-1.57774199e+00,  8.59989071e-02,  5.14797931e+01,\n",
       "         9.23463544e-02],\n",
       "       [-1.43284428e+00,  6.16020577e-02,  5.15596618e+01,\n",
       "         7.83806009e-02],\n",
       "       [-1.32438483e+00,  4.79883449e-02,  5.17117560e+01,\n",
       "         7.41534501e-02],\n",
       "       [-1.23767108e+00,  3.93026672e-02,  5.17899502e+01,\n",
       "         7.43753047e-02],\n",
       "       [-1.16542286e+00,  3.32792711e-02,  5.17939945e+01,\n",
       "         7.64802162e-02],\n",
       "       [-1.10349688e+00,  2.88567773e-02,  5.18148709e+01,\n",
       "         7.91046647e-02],\n",
       "       [-1.04930901e+00,  2.54718186e-02,  5.19011255e+01,\n",
       "         8.74969676e-02],\n",
       "       [-1.00113839e+00,  2.27976105e-02,  5.21758556e+01,\n",
       "         7.95899715e-02],\n",
       "       [-9.57781274e-01,  2.06315672e-02,  5.23656003e+01,\n",
       "         8.20389371e-02],\n",
       "       [-9.18362452e-01,  1.88414098e-02,  5.24929364e+01,\n",
       "         8.71594301e-02],\n",
       "       [-8.82225632e-01,  1.73371049e-02,  5.24413115e+01,\n",
       "         9.07845064e-02],\n",
       "       [-8.48866100e-01,  1.60552489e-02,  5.22717822e+01,\n",
       "         9.82701962e-02],\n",
       "       [-8.17887238e-01,  1.49498964e-02,  5.20007043e+01,\n",
       "         1.13545769e-01],\n",
       "       [-7.88971776e-01,  1.39869403e-02,  5.20808696e+01,\n",
       "         9.12446714e-02],\n",
       "       [-7.61861902e-01,  1.31405289e-02,  5.18502861e+01,\n",
       "         1.02111488e-01],\n",
       "       [-7.36345348e-01,  1.23907129e-02,  5.17257869e+01,\n",
       "         1.07747204e-01],\n",
       "       [-7.00678708e-01,  2.28275681e-02,  5.12680872e+01,\n",
       "         1.29001446e-01],\n",
       "       [-6.57267370e-01,  2.06560991e-02,  5.14791218e+01,\n",
       "         1.07743642e-01],\n",
       "       [-6.17803736e-01,  1.88618669e-02,  5.14779667e+01,\n",
       "         1.19473748e-01],\n",
       "       [-5.81629289e-01,  1.73544250e-02,  5.15870441e+01,\n",
       "         1.27355222e-01],\n",
       "       [-5.48237673e-01,  1.60701012e-02,  5.19029910e+01,\n",
       "         1.04613390e-01],\n",
       "       [-5.17231148e-01,  1.49627730e-02,  5.19912883e+01,\n",
       "         1.15513377e-01],\n",
       "       [-4.88291581e-01,  1.39982105e-02,  5.18176993e+01,\n",
       "         1.84607111e-01],\n",
       "       [-4.61160551e-01,  1.31504765e-02,  5.21980879e+01,\n",
       "         1.08237157e-01],\n",
       "       [-4.35625228e-01,  1.23995570e-02,  5.22448453e+01,\n",
       "         1.06645610e-01],\n",
       "       [-4.11508306e-01,  1.17297632e-02,  5.21450301e+01,\n",
       "         1.32502031e-01],\n",
       "       [-3.94260725e-01,  5.63652800e-03,  5.23584143e+01,\n",
       "         1.14487907e-01],\n",
       "       [-3.66954784e-01,  2.11721869e-02,  5.20817233e+01,\n",
       "         1.11390078e-01],\n",
       "       [-3.36304008e-01,  9.86472420e-03,  5.23069393e+01,\n",
       "         1.16535389e-01],\n",
       "       [-2.72220360e-01,  5.10684351e-02,  5.20253830e+01,\n",
       "         1.07163318e-01],\n",
       "       [-2.01671204e-01,  2.17056801e-02,  5.20697478e+01,\n",
       "         1.06599894e-01],\n",
       "       [-1.70275360e-01,  1.00959586e-02,  5.21942741e+01,\n",
       "         1.21513954e-01],\n",
       "       [-1.44154328e-01,  1.58443810e-02,  5.20045881e+01,\n",
       "         1.23034284e-01],\n",
       "       [-8.49954276e-02,  4.14798933e-02,  5.16429749e+01,\n",
       "         1.25383729e-01],\n",
       "       [-3.53973385e-02,  9.86752587e-03,  5.18666325e+01,\n",
       "         1.22529097e-01],\n",
       "       [ 2.01051877e-02,  4.34185936e-02,  5.15896443e+01,\n",
       "         1.00647601e-01],\n",
       "       [ 6.93115806e-02,  7.75352792e-03,  5.19132244e+01,\n",
       "         1.14233954e-01],\n",
       "       [ 8.26726048e-02,  5.63896753e-03,  5.19234128e+01,\n",
       "         1.19534053e-01],\n",
       "       [ 1.09990002e-01,  2.11807917e-02,  5.17098755e+01,\n",
       "         1.00366683e-01],\n",
       "       [ 1.50410814e-01,  1.92984032e-02,  5.16004926e+01,\n",
       "         1.18456414e-01],\n",
       "       [ 2.04759016e-01,  3.40567475e-02,  5.13852667e+01,\n",
       "         1.34934719e-01],\n",
       "       [ 2.53056227e-01,  1.52361754e-02,  5.15995799e+01,\n",
       "         1.19993726e-01],\n",
       "       [ 2.82507044e-01,  1.42372184e-02,  5.13342209e+01,\n",
       "         1.88847978e-01],\n",
       "       [ 3.01086836e-01,  4.54699105e-03,  5.19021819e+01,\n",
       "         1.13876875e-01],\n",
       "       [ 3.64438027e-01,  5.50175116e-02,  5.13029648e+01,\n",
       "         1.02827081e-01],\n",
       "       [ 5.05753535e-01,  8.08913830e-02,  5.10429480e+01,\n",
       "         1.29549253e-01],\n",
       "       [ 3.95721298e+00,  3.12589349e-02,  4.74201957e+01,\n",
       "         1.23832636e-01],\n",
       "       [ 4.01091254e+00,  1.51499117e-03,  4.71140825e+01,\n",
       "         1.27732609e-01],\n",
       "       [ 4.01408969e+00,  2.06965913e-03,  4.69689709e+01,\n",
       "         1.28804031e-01],\n",
       "       [ 4.01789309e+00,  1.28567634e-03,  4.71806563e+01,\n",
       "         1.26685119e-01],\n",
       "       [ 4.02086465e+00,  1.54859249e-03,  4.70843341e+01,\n",
       "         1.29166576e-01],\n",
       "       [ 4.02356025e+00,  1.29601073e-03,  4.71640713e+01,\n",
       "         1.28087040e-01],\n",
       "       [ 4.02741203e+00,  1.99375523e-03,  4.70916487e+01,\n",
       "         1.16123011e-01],\n",
       "       [ 4.07065839e+00,  1.28394096e-03,  4.71383286e+01,\n",
       "         1.27383063e-01],\n",
       "       [ 4.07344011e+00,  1.75715086e-03,  4.70009399e+01,\n",
       "         1.27033157e-01],\n",
       "       [ 4.07668838e+00,  1.46931235e-03,  4.70693333e+01,\n",
       "         1.29172768e-01],\n",
       "       [ 4.07994986e+00,  1.24490876e-03,  4.71454167e+01,\n",
       "         1.27033149e-01],\n",
       "       [ 4.08240878e+00,  1.39114167e-03,  4.70799238e+01,\n",
       "         1.29538910e-01],\n",
       "       [ 4.08626482e+00,  2.85116810e-03,  4.70138173e+01,\n",
       "         1.04743802e-01],\n",
       "       [ 4.12413407e+00,  1.93839138e-03,  4.69338595e+01,\n",
       "         1.27921355e-01],\n",
       "       [ 4.12770495e+00,  1.78443679e-03,  4.69639293e+01,\n",
       "         1.28528006e-01],\n",
       "       [ 4.13157536e+00,  1.81071348e-03,  4.69715369e+01,\n",
       "         1.27521137e-01],\n",
       "       [ 4.13424843e+00,  1.52757280e-03,  4.70522064e+01,\n",
       "         1.27322404e-01],\n",
       "       [ 4.13788135e+00,  1.42146558e-03,  4.70918340e+01,\n",
       "         1.27521205e-01],\n",
       "       [ 4.14111295e+00,  1.84347658e-03,  4.70287288e+01,\n",
       "         1.22127183e-01],\n",
       "       [ 4.17065235e+00,  1.43360782e-03,  4.70867230e+01,\n",
       "         1.26928831e-01],\n",
       "       [ 4.17502352e+00,  2.35272200e-03,  4.68665956e+01,\n",
       "         1.27524106e-01],\n",
       "       [ 4.17819159e+00,  1.51295373e-03,  4.71587469e+01,\n",
       "         1.16195458e-01],\n",
       "       [ 4.22065068e+00,  2.05806240e-03,  4.68416107e+01,\n",
       "         1.27857475e-01],\n",
       "       [ 4.22506334e+00,  2.77575805e-03,  4.67832140e+01,\n",
       "         1.19457928e-01],\n",
       "       [ 4.25167577e+00,  1.18163334e-03,  4.70764711e+01,\n",
       "         1.27663478e-01],\n",
       "       [ 4.25519675e+00,  1.95612853e-03,  4.68546962e+01,\n",
       "         1.27472245e-01],\n",
       "       [ 4.26112342e+00,  4.52326660e-03,  4.67179030e+01,\n",
       "         1.04958037e-01],\n",
       "       [ 4.28848189e+00,  2.53799966e-03,  4.66470686e+01,\n",
       "         1.29370599e-01],\n",
       "       [ 4.29502714e+00,  4.19803599e-03,  4.64131317e+01,\n",
       "         1.30425384e-01],\n",
       "       [ 4.32089218e+00,  2.08998337e-03,  4.66992139e+01,\n",
       "         1.28456618e-01],\n",
       "       [ 4.32419034e+00,  1.22963928e-03,  4.69326736e+01,\n",
       "         1.28456596e-01],\n",
       "       [ 4.32927988e+00,  3.23193799e-03,  4.67027525e+01,\n",
       "         1.09480886e-01],\n",
       "       [ 4.35543171e+00,  5.82205853e-03,  4.65584415e+01,\n",
       "         1.02540090e-01],\n",
       "       [ 4.38365320e+00,  5.59715923e-03,  4.64704261e+01,\n",
       "         1.09308491e-01],\n",
       "       [ 4.40730818e+00,  2.23734462e-03,  4.65874437e+01,\n",
       "         1.31285200e-01],\n",
       "       [ 4.41278342e+00,  2.89800839e-03,  4.65172618e+01,\n",
       "         1.25068853e-01],\n",
       "       [ 4.43232957e+00,  2.13842184e-03,  4.65510088e+01,\n",
       "         1.31071087e-01],\n",
       "       [ 4.44385686e+00,  1.17522523e-02,  4.65586678e+01,\n",
       "         9.63901684e-02],\n",
       "       [ 4.49336036e+00,  1.27839814e-02,  4.64092274e+01,\n",
       "         1.09997344e-01],\n",
       "       [ 4.52032378e+00,  2.64943923e-03,  4.65049922e+01,\n",
       "         1.17343929e-01],\n",
       "       [ 4.54970060e+00,  1.26747923e-02,  4.62685381e+01,\n",
       "         1.08418779e-01],\n",
       "       [ 4.59015945e+00,  1.18940630e-02,  4.60504008e+01,\n",
       "         1.31926286e-01],\n",
       "       [ 4.61084076e+00,  3.32075593e-03,  4.61927570e+01,\n",
       "         1.33025558e-01],\n",
       "       [ 4.63231681e+00,  1.09096325e-02,  4.60555639e+01,\n",
       "         1.14695552e-01],\n",
       "       [ 4.66526246e+00,  1.00037946e-02,  4.61654758e+01,\n",
       "         1.10050422e-01],\n",
       "       [ 4.68532264e+00,  2.79740327e-03,  4.62616544e+01,\n",
       "         1.32948858e-01],\n",
       "       [ 4.71098729e+00,  2.06162417e-02,  4.60907748e+01,\n",
       "         1.28276518e-01],\n",
       "       [ 4.76628671e+00,  1.92635664e-02,  4.58374654e+01,\n",
       "         1.23047663e-01],\n",
       "       [ 4.79745564e+00,  7.38044538e-03,  4.59808692e+01,\n",
       "         1.28650639e-01],\n",
       "       [ 4.81844987e+00,  7.10574165e-03,  4.59905334e+01,\n",
       "         1.25991851e-01],\n",
       "       [ 4.84205728e+00,  1.95632245e-02,  4.56467319e+01,\n",
       "         1.36710648e-01],\n",
       "       [ 4.90751437e+00,  2.94460010e-02,  4.57471869e+01,\n",
       "         1.33625528e-01],\n",
       "       [ 4.97845845e+00,  3.93796340e-02,  4.56045773e+01,\n",
       "         1.30620008e-01],\n",
       "       [ 5.05608373e+00,  4.12337771e-02,  4.54818926e+01,\n",
       "         1.39686030e-01],\n",
       "       [ 5.18184362e+00,  9.57961713e-02,  4.51135974e+01,\n",
       "         1.44497403e-01]])"
      ]
     },
     "execution_count": 8,
     "metadata": {},
     "output_type": "execute_result"
    }
   ],
   "source": [
    "data"
   ]
  }
 ],
 "metadata": {
  "kernelspec": {
   "display_name": "Python 2",
   "language": "python",
   "name": "python2"
  },
  "language_info": {
   "codemirror_mode": {
    "name": "ipython",
    "version": 2
   },
   "file_extension": ".py",
   "mimetype": "text/x-python",
   "name": "python",
   "nbconvert_exporter": "python",
   "pygments_lexer": "ipython2",
   "version": "2.7.14"
  }
 },
 "nbformat": 4,
 "nbformat_minor": 1
}
